{
 "cells": [
  {
   "cell_type": "markdown",
   "metadata": {
    "colab_type": "text",
    "id": "lwdt5P7qvEvC"
   },
   "source": [
    "# FGV - FUNDAÇÃO GETULIO VARGAS\n",
    "## ANÁLISE PREDITIVA AVANÇADA\n",
    "\n",
    "###### Professores: Gustavo Mirapalheta e Hitoshi Nagano\n",
    "###### Aluno: Ricardo Lucio Braga Reis"
   ]
  },
  {
   "cell_type": "markdown",
   "metadata": {
    "colab_type": "text",
    "id": "qjnvOHoahAz_"
   },
   "source": [
    "### Estudo de Caso - MNIST\n",
    "---\n",
    "\n",
    "**Questão 1:**\n",
    "\n",
    "Tomando por base o conjunto de dados MNIST, padrão do pacote Keras, defina e elabore uma rede neural sequencial, apresentando os formatos dos tensores de entrada e saída, bem como os tensores intermediários na rede. Treine e teste o modelo de rede neural sequencial desenvolvido, de forma que ele consiga atingir uma precisão de pelo menos 97% no teste, no reconhecimento das imagens de números escritos à mão livre. Compare o desempenho da rede neural no treino utilizando dados normalizados e não normalizados.após 50 épocas de treino. Aumente o número de camadas internas da rede neural e determine se isto melhora ou não a qualidade dos resultados no teste. Qual o número de camadas que você consideraria ideal?\n",
    "\n",
    "**Questão 2:**\n",
    "\n",
    "Resolva o mesmo problema da Questão 1 utilizando o algoritmo Random Forests. Tentem trabalhar a hiperparametrização para aumento do desempenho. Compare o seu melhor resultado com o resultado obtido na Questão 1 e comente. \n",
    "\n",
    "---\n",
    "\n"
   ]
  },
  {
   "cell_type": "markdown",
   "metadata": {
    "colab_type": "text",
    "id": "ywkIBo_fu7uj"
   },
   "source": [
    "### Carrega Pacotes"
   ]
  },
  {
   "cell_type": "markdown",
   "metadata": {
    "colab_type": "text",
    "id": "kBpb40nUzAkj"
   },
   "source": [
    "Inicialmente carregou-se todos os pacotes que serão utilizados no desenvolvimento do estudo de caso."
   ]
  },
  {
   "cell_type": "code",
   "execution_count": null,
   "metadata": {
    "colab": {
     "base_uri": "https://localhost:8080/",
     "height": 68
    },
    "colab_type": "code",
    "id": "tSb5c77-qyP5",
    "outputId": "704bad0e-9965-4c91-a910-eb9e40d9754e"
   },
   "outputs": [
    {
     "name": "stdout",
     "output_type": "stream",
     "text": [
      "keras version: 2.3.1\n",
      "tensorflow version: 2.2.0\n",
      "GPU support: True\n"
     ]
    }
   ],
   "source": [
    "import pandas as pd\n",
    "import matplotlib.pyplot as plt\n",
    "%matplotlib inline\n",
    "import seaborn as sns\n",
    "import numpy as np\n",
    "\n",
    "# Para padronização dos dados\n",
    "from sklearn.preprocessing import StandardScaler\n",
    "\n",
    "# Para separação em amostra de treino e teste\n",
    "from sklearn.model_selection import train_test_split\n",
    "\n",
    "# Cross-validation\n",
    "from sklearn.model_selection import GridSearchCV\n",
    "\n",
    "# Modelos\n",
    "from sklearn.ensemble import RandomForestClassifier\n",
    "import keras\n",
    "print(\"keras version:\", keras.__version__)\n",
    "import tensorflow as tf\n",
    "print(\"tensorflow version:\", tf.__version__)\n",
    "print(\"GPU support:\", tf.test.is_gpu_available(cuda_only=False, min_cuda_compute_capability=None))\n",
    "from keras import models, layers\n",
    "from keras.utils import to_categorical\n",
    "\n",
    "# Métrica de erro\n",
    "from sklearn.metrics import confusion_matrix\n",
    "from sklearn.metrics import classification_report\n",
    "\n",
    "# Dados\n",
    "from keras.datasets import mnist"
   ]
  },
  {
   "cell_type": "markdown",
   "metadata": {
    "colab_type": "text",
    "id": "IrJ5qXTCvn-H"
   },
   "source": [
    "### Base de Dados - MNIST"
   ]
  },
  {
   "cell_type": "markdown",
   "metadata": {
    "colab_type": "text",
    "id": "NG8HV_dwfeny"
   },
   "source": [
    "Importando e visualizando a base de dados MNIST observam-se 70.000 imagens 28x28. Nesse momento separa-se a base em *base de treino*, com 85.7% (60.000 imagens) dos dados, e *base de teste*, com 14.3% (10.000 imagens) dos dados. É nessário que se faça a *dummificação* da variável *target* para a entrada na rede neural dado que a camada de saída utiliza a função *softmax*, ou seja, ele fará uma classificação multinomial de 0-9. Para isso utilizou-se a função *to_categorical*. Para que o dado esteja ideal para a entrada na rede também será necessário fazer um *reshape*, ou seja, passar de 28x28 para um vetor com 784 posições."
   ]
  },
  {
   "cell_type": "code",
   "execution_count": null,
   "metadata": {
    "colab": {
     "base_uri": "https://localhost:8080/",
     "height": 34
    },
    "colab_type": "code",
    "id": "ZVkM3U5drEAN",
    "outputId": "3e15c83d-a554-4419-8cb3-78738c774e58"
   },
   "outputs": [
    {
     "data": {
      "text/plain": [
       "((60000, 28, 28), (10000, 28, 28), (60000,), (10000,))"
      ]
     },
     "execution_count": 18,
     "metadata": {
      "tags": []
     },
     "output_type": "execute_result"
    }
   ],
   "source": [
    "(X_train, y_train), (X_test, y_test) = mnist.load_data()\n",
    "X_train.shape, X_test.shape, y_train.shape, y_test.shape"
   ]
  },
  {
   "cell_type": "code",
   "execution_count": null,
   "metadata": {
    "colab": {
     "base_uri": "https://localhost:8080/",
     "height": 265
    },
    "colab_type": "code",
    "id": "Tu0QJtucAO57",
    "outputId": "95757e8f-8658-43ea-cbd4-f0e75a24da24"
   },
   "outputs": [
    {
     "data": {
      "image/png": "[encoded data removed]",
      "text/plain": [
       "<Figure size 432x288 with 1 Axes>"
      ]
     },
     "metadata": {
      "needs_background": "light",
      "tags": []
     },
     "output_type": "display_data"
    }
   ],
   "source": [
    "digito = X_train[4]\n",
    "plt.imshow(digito, cmap = plt.cm.binary)\n",
    "plt.show()"
   ]
  },
  {
   "cell_type": "code",
   "execution_count": null,
   "metadata": {
    "colab": {
     "base_uri": "https://localhost:8080/",
     "height": 34
    },
    "colab_type": "code",
    "id": "7BA3XnRdA9_2",
    "outputId": "cfbb444a-6c41-4f1f-e666-09f20709f7fc"
   },
   "outputs": [
    {
     "data": {
      "text/plain": [
       "9"
      ]
     },
     "execution_count": 20,
     "metadata": {
      "tags": []
     },
     "output_type": "execute_result"
    }
   ],
   "source": [
    "y_train[4]"
   ]
  },
  {
   "cell_type": "markdown",
   "metadata": {
    "colab_type": "text",
    "id": "L4OLLVyQaTuA"
   },
   "source": [
    "**Reshape**\n",
    "\n",
    " "
   ]
  },
  {
   "cell_type": "code",
   "execution_count": null,
   "metadata": {
    "colab": {
     "base_uri": "https://localhost:8080/",
     "height": 34
    },
    "colab_type": "code",
    "id": "EDftmazMrN11",
    "outputId": "4eb22e66-b838-4aa4-b16e-764ff7ae5dc0"
   },
   "outputs": [
    {
     "data": {
      "text/plain": [
       "((60000, 784), (10000, 784))"
      ]
     },
     "execution_count": 21,
     "metadata": {
      "tags": []
     },
     "output_type": "execute_result"
    }
   ],
   "source": [
    "X_train = X_train.reshape(60000,28*28)\n",
    "X_test = X_test.reshape(10000, 28*28)\n",
    "X_train.shape, X_test.shape"
   ]
  },
  {
   "cell_type": "markdown",
   "metadata": {
    "colab_type": "text",
    "id": "-Fb34pouXntj"
   },
   "source": [
    "**Dummificação da Variável Target**"
   ]
  },
  {
   "cell_type": "code",
   "execution_count": null,
   "metadata": {
    "colab": {},
    "colab_type": "code",
    "id": "2mvRjDzkoDZ6"
   },
   "outputs": [],
   "source": [
    "y_train2 = to_categorical(y_train)\n",
    "y_test2 = to_categorical(y_test)"
   ]
  },
  {
   "cell_type": "markdown",
   "metadata": {
    "colab_type": "text",
    "id": "4In1bN_HVzjZ"
   },
   "source": [
    "### Questão 1 - Redes Neurais"
   ]
  },
  {
   "cell_type": "markdown",
   "metadata": {
    "colab_type": "text",
    "id": "xT0_BP-l6x2S"
   },
   "source": [
    "Para esse estudo de caso, foram construídos 4 modelos de redes neurais. O primeiro formado por uma camada de entrada com 512 *neurons* e função de ativação *relu*, uma camada de saída com 10 *neurons* e função *softmax*, e será utilizado com dados não normalizados. O segundo possui a mesma arquitetura do primeiro, porém será utilizado com dados normalizados. Já no terceiro, inseriu-se uma camada escondida com 256 *neurons* e função *relu*, e também será utilizado com dados normalizados. No quarto modelo inseriu-se mais uma camada escondida com 128 *neurons* e função *relu*, e também será utilizado com dados normalizados. Todos os modelos serão treinados com 50 épocas, com *input_shape* de 784 colunas, otimizador *rmsprop*, loss *categorical_crossentropy*, validados com 20% da base de treino e avaliados pela acurácia. Através do *summary* é possível observar todas as camadas dos 4 modelos com os respectivos *output shapes*."
   ]
  },
  {
   "cell_type": "markdown",
   "metadata": {
    "colab_type": "text",
    "id": "a6vrl80I_M9w"
   },
   "source": [
    "Após 50 épocas de treino, comparando inicialmente os modelos 1 e 2, ou seja, o modelo 1 treinado com dados não normalizados e o modelo 2 com dados normalizados, nota-se que o ganho em performance é muito pouco significativo, com acurácia de 99.72% para o modelo 1 e 100% para o modelo 2.\n",
    "\n",
    "Pegando o mesmo modelo como base e aumentando o número de camadas, podemos observar que o modelo 3 com 3 camadas, e o modelo 4 com 4 camadas, utilizando dados normalizados, não variam muito a acurácia em relação ao modelo 2. Para os dados de teste, os modelos 3 e 4 não obtém um ganho de perfomance em relação ao modelo 2, alcaçando 98.11% e 98.22% de acurácia respectivamente. Portanto aumentar o número de camadas escondidas, para este caso, não traz um ganho significativo que compense o aumento da complexidade do modelo, logo, os modelos 1 e 2 com apenas a camada de entrada e a de saída já obtém um resultado satisfatório em relação aos outros modelos. No quadro abaixo podem-se observar as acurácias dos quatro modelos utilizando dados de treinamento, validação e teste.\n",
    "\n",
    "</br>\n",
    "<table>\n",
    "<tr>\n",
    "<th></th>\n",
    "<th>Treinamento</th>\n",
    "<th>Validação</th>\n",
    "<th>Teste</th>\n",
    "</tr>\n",
    "<tr>\n",
    "<td>Modelo 1</td>\n",
    "<td>0.9972</td>\n",
    "<td>0.9773</td>\n",
    "<td>0.9782</td>\n",
    "</tr>\n",
    "<tr>\n",
    "<td>Modelo 2</td>\n",
    "<td>1.0</td>\n",
    "<td>0.9829</td>\n",
    "<td>0.9832</td>\n",
    "</tr>\n",
    "<tr>\n",
    "<td>Modelo 3</td>\n",
    "<td>0.9996</td>\n",
    "<td>0.9803</td>\n",
    "<td>0.9811</td>\n",
    "</tr>\n",
    "<tr>\n",
    "<td>Modelo 4</td>\n",
    "<td>0.9992</td>\n",
    "<td>0.9779</td>\n",
    "<td>0.9822</td>\n",
    "</tr>\n",
    "</table>"
   ]
  },
  {
   "cell_type": "markdown",
   "metadata": {
    "colab_type": "text",
    "id": "AOgkfgYzlw9N"
   },
   "source": [
    "#### Modelo 1 - Dados Não Normalizados"
   ]
  },
  {
   "cell_type": "code",
   "execution_count": null,
   "metadata": {
    "colab": {},
    "colab_type": "code",
    "id": "74qVadPglvyc"
   },
   "outputs": [],
   "source": [
    "model1 = models.Sequential()"
   ]
  },
  {
   "cell_type": "code",
   "execution_count": null,
   "metadata": {
    "colab": {
     "base_uri": "https://localhost:8080/",
     "height": 221
    },
    "colab_type": "code",
    "id": "fCAdEMcYmANK",
    "outputId": "852b21d5-61c8-4505-a4a0-177253404db3"
   },
   "outputs": [
    {
     "name": "stdout",
     "output_type": "stream",
     "text": [
      "Model: \"sequential_1\"\n",
      "_________________________________________________________________\n",
      "Layer (type)                 Output Shape              Param #   \n",
      "=================================================================\n",
      "dense_1 (Dense)              (None, 512)               401920    \n",
      "_________________________________________________________________\n",
      "dense_2 (Dense)              (None, 10)                5130      \n",
      "=================================================================\n",
      "Total params: 407,050\n",
      "Trainable params: 407,050\n",
      "Non-trainable params: 0\n",
      "_________________________________________________________________\n"
     ]
    }
   ],
   "source": [
    "# 1ª Camada\n",
    "model1.add(layers.Dense(512, activation='relu', input_shape=(28*28,)))\n",
    "# Camada de Output\n",
    "model1.add(layers.Dense(10, activation='softmax'))\n",
    "\n",
    "# Compilando a Rede\n",
    "model1.compile(optimizer='rmsprop', loss='categorical_crossentropy', metrics=['accuracy'])\n",
    "\n",
    "model1.summary()"
   ]
  },
  {
   "cell_type": "code",
   "execution_count": null,
   "metadata": {
    "colab": {
     "base_uri": "https://localhost:8080/",
     "height": 1000
    },
    "colab_type": "code",
    "id": "J0fFoczunrdd",
    "outputId": "6d0292fa-7c66-4e2d-a5df-dccff1dc27bf"
   },
   "outputs": [
    {
     "name": "stdout",
     "output_type": "stream",
     "text": [
      "Train on 48000 samples, validate on 12000 samples\n",
      "Epoch 1/50\n",
      "48000/48000 [==============================] - 3s 59us/step - loss: 6.8711 - accuracy: 0.8894 - val_loss: 1.1172 - val_accuracy: 0.9421\n",
      "Epoch 2/50\n",
      "48000/48000 [==============================] - 1s 24us/step - loss: 0.8458 - accuracy: 0.9516 - val_loss: 0.8413 - val_accuracy: 0.9532\n",
      "Epoch 3/50\n",
      "48000/48000 [==============================] - 1s 24us/step - loss: 0.5278 - accuracy: 0.9649 - val_loss: 0.8539 - val_accuracy: 0.9544\n",
      "Epoch 4/50\n",
      "48000/48000 [==============================] - 1s 24us/step - loss: 0.4309 - accuracy: 0.9716 - val_loss: 0.8160 - val_accuracy: 0.9599\n",
      "Epoch 5/50\n",
      "48000/48000 [==============================] - 1s 24us/step - loss: 0.3958 - accuracy: 0.9750 - val_loss: 0.8403 - val_accuracy: 0.9641\n",
      "Epoch 6/50\n",
      "48000/48000 [==============================] - 1s 24us/step - loss: 0.3350 - accuracy: 0.9797 - val_loss: 0.8713 - val_accuracy: 0.9632\n",
      "Epoch 7/50\n",
      "48000/48000 [==============================] - 1s 23us/step - loss: 0.2607 - accuracy: 0.9825 - val_loss: 0.8927 - val_accuracy: 0.9679\n",
      "Epoch 8/50\n",
      "48000/48000 [==============================] - 1s 24us/step - loss: 0.2609 - accuracy: 0.9844 - val_loss: 0.7914 - val_accuracy: 0.9704\n",
      "Epoch 9/50\n",
      "48000/48000 [==============================] - 1s 24us/step - loss: 0.2346 - accuracy: 0.9858 - val_loss: 0.8364 - val_accuracy: 0.9715\n",
      "Epoch 10/50\n",
      "48000/48000 [==============================] - 1s 24us/step - loss: 0.2109 - accuracy: 0.9869 - val_loss: 0.9802 - val_accuracy: 0.9701\n",
      "Epoch 11/50\n",
      "48000/48000 [==============================] - 1s 24us/step - loss: 0.2074 - accuracy: 0.9877 - val_loss: 1.1237 - val_accuracy: 0.9660\n",
      "Epoch 12/50\n",
      "48000/48000 [==============================] - 1s 24us/step - loss: 0.2203 - accuracy: 0.9879 - val_loss: 1.1650 - val_accuracy: 0.9693\n",
      "Epoch 13/50\n",
      "48000/48000 [==============================] - 1s 24us/step - loss: 0.1737 - accuracy: 0.9901 - val_loss: 1.2179 - val_accuracy: 0.9709\n",
      "Epoch 14/50\n",
      "48000/48000 [==============================] - 1s 24us/step - loss: 0.1745 - accuracy: 0.9904 - val_loss: 1.0550 - val_accuracy: 0.9728\n",
      "Epoch 15/50\n",
      "48000/48000 [==============================] - 1s 24us/step - loss: 0.1541 - accuracy: 0.9918 - val_loss: 1.1583 - val_accuracy: 0.9711\n",
      "Epoch 16/50\n",
      "48000/48000 [==============================] - 1s 24us/step - loss: 0.1438 - accuracy: 0.9921 - val_loss: 1.1767 - val_accuracy: 0.9735\n",
      "Epoch 17/50\n",
      "48000/48000 [==============================] - 1s 24us/step - loss: 0.1194 - accuracy: 0.9927 - val_loss: 1.2416 - val_accuracy: 0.9722\n",
      "Epoch 18/50\n",
      "48000/48000 [==============================] - 1s 23us/step - loss: 0.1275 - accuracy: 0.9928 - val_loss: 1.1697 - val_accuracy: 0.9750\n",
      "Epoch 19/50\n",
      "48000/48000 [==============================] - 1s 24us/step - loss: 0.1264 - accuracy: 0.9937 - val_loss: 1.2152 - val_accuracy: 0.9745\n",
      "Epoch 20/50\n",
      "48000/48000 [==============================] - 1s 24us/step - loss: 0.1425 - accuracy: 0.9928 - val_loss: 1.3344 - val_accuracy: 0.9732\n",
      "Epoch 21/50\n",
      "48000/48000 [==============================] - 1s 24us/step - loss: 0.1330 - accuracy: 0.9939 - val_loss: 1.2390 - val_accuracy: 0.9763\n",
      "Epoch 22/50\n",
      "48000/48000 [==============================] - 1s 23us/step - loss: 0.1099 - accuracy: 0.9945 - val_loss: 1.3235 - val_accuracy: 0.9744\n",
      "Epoch 23/50\n",
      "48000/48000 [==============================] - 1s 24us/step - loss: 0.1161 - accuracy: 0.9942 - val_loss: 1.3251 - val_accuracy: 0.9757\n",
      "Epoch 24/50\n",
      "48000/48000 [==============================] - 1s 23us/step - loss: 0.1210 - accuracy: 0.9943 - val_loss: 1.5736 - val_accuracy: 0.9719\n",
      "Epoch 25/50\n",
      "48000/48000 [==============================] - 1s 23us/step - loss: 0.1046 - accuracy: 0.9950 - val_loss: 1.3278 - val_accuracy: 0.9756\n",
      "Epoch 26/50\n",
      "48000/48000 [==============================] - 1s 24us/step - loss: 0.0940 - accuracy: 0.9954 - val_loss: 1.2775 - val_accuracy: 0.9755\n",
      "Epoch 27/50\n",
      "48000/48000 [==============================] - 1s 24us/step - loss: 0.0906 - accuracy: 0.9955 - val_loss: 1.3987 - val_accuracy: 0.9755\n",
      "Epoch 28/50\n",
      "48000/48000 [==============================] - 1s 23us/step - loss: 0.1077 - accuracy: 0.9949 - val_loss: 1.3850 - val_accuracy: 0.9756\n",
      "Epoch 29/50\n",
      "48000/48000 [==============================] - 1s 23us/step - loss: 0.0794 - accuracy: 0.9960 - val_loss: 1.3949 - val_accuracy: 0.9771\n",
      "Epoch 30/50\n",
      "48000/48000 [==============================] - 1s 24us/step - loss: 0.0730 - accuracy: 0.9963 - val_loss: 1.4420 - val_accuracy: 0.9741\n",
      "Epoch 31/50\n",
      "48000/48000 [==============================] - 1s 23us/step - loss: 0.0729 - accuracy: 0.9963 - val_loss: 1.6732 - val_accuracy: 0.9718\n",
      "Epoch 32/50\n",
      "48000/48000 [==============================] - 1s 23us/step - loss: 0.0849 - accuracy: 0.9959 - val_loss: 1.5840 - val_accuracy: 0.9762\n",
      "Epoch 33/50\n",
      "48000/48000 [==============================] - 1s 23us/step - loss: 0.0748 - accuracy: 0.9966 - val_loss: 1.4759 - val_accuracy: 0.9757\n",
      "Epoch 34/50\n",
      "48000/48000 [==============================] - 1s 24us/step - loss: 0.0833 - accuracy: 0.9967 - val_loss: 1.6691 - val_accuracy: 0.9753\n",
      "Epoch 35/50\n",
      "48000/48000 [==============================] - 1s 24us/step - loss: 0.0768 - accuracy: 0.9967 - val_loss: 1.5244 - val_accuracy: 0.9754\n",
      "Epoch 36/50\n",
      "48000/48000 [==============================] - 1s 23us/step - loss: 0.0823 - accuracy: 0.9963 - val_loss: 1.5967 - val_accuracy: 0.9759\n",
      "Epoch 37/50\n",
      "48000/48000 [==============================] - 1s 24us/step - loss: 0.0723 - accuracy: 0.9970 - val_loss: 1.5127 - val_accuracy: 0.9756\n",
      "Epoch 38/50\n",
      "48000/48000 [==============================] - 1s 23us/step - loss: 0.0563 - accuracy: 0.9974 - val_loss: 1.7553 - val_accuracy: 0.9754\n",
      "Epoch 39/50\n",
      "48000/48000 [==============================] - 1s 24us/step - loss: 0.0730 - accuracy: 0.9966 - val_loss: 1.6322 - val_accuracy: 0.9776\n",
      "Epoch 40/50\n",
      "48000/48000 [==============================] - 1s 23us/step - loss: 0.0569 - accuracy: 0.9973 - val_loss: 1.7218 - val_accuracy: 0.9753\n",
      "Epoch 41/50\n",
      "48000/48000 [==============================] - 1s 24us/step - loss: 0.0572 - accuracy: 0.9973 - val_loss: 1.7808 - val_accuracy: 0.9766\n",
      "Epoch 42/50\n",
      "48000/48000 [==============================] - 1s 23us/step - loss: 0.0688 - accuracy: 0.9968 - val_loss: 1.7419 - val_accuracy: 0.9768\n",
      "Epoch 43/50\n",
      "48000/48000 [==============================] - 1s 24us/step - loss: 0.0677 - accuracy: 0.9971 - val_loss: 1.8168 - val_accuracy: 0.9768\n",
      "Epoch 44/50\n",
      "48000/48000 [==============================] - 1s 24us/step - loss: 0.0654 - accuracy: 0.9971 - val_loss: 1.7263 - val_accuracy: 0.9759\n",
      "Epoch 45/50\n",
      "48000/48000 [==============================] - 1s 24us/step - loss: 0.0656 - accuracy: 0.9973 - val_loss: 1.6862 - val_accuracy: 0.9790\n",
      "Epoch 46/50\n",
      "48000/48000 [==============================] - 1s 23us/step - loss: 0.0528 - accuracy: 0.9978 - val_loss: 2.1528 - val_accuracy: 0.9739\n",
      "Epoch 47/50\n",
      "48000/48000 [==============================] - 1s 23us/step - loss: 0.0469 - accuracy: 0.9978 - val_loss: 1.8360 - val_accuracy: 0.9756\n",
      "Epoch 48/50\n",
      "48000/48000 [==============================] - 1s 23us/step - loss: 0.0563 - accuracy: 0.9977 - val_loss: 1.7020 - val_accuracy: 0.9778\n",
      "Epoch 49/50\n",
      "48000/48000 [==============================] - 1s 24us/step - loss: 0.0489 - accuracy: 0.9980 - val_loss: 1.8096 - val_accuracy: 0.9766\n",
      "Epoch 50/50\n",
      "48000/48000 [==============================] - 1s 24us/step - loss: 0.0534 - accuracy: 0.9972 - val_loss: 1.6705 - val_accuracy: 0.9773\n"
     ]
    }
   ],
   "source": [
    "history1 = model1.fit(X_train, y_train2, validation_split=0.2, batch_size = 128, epochs = 50, verbose = 1)"
   ]
  },
  {
   "cell_type": "code",
   "execution_count": null,
   "metadata": {
    "colab": {
     "base_uri": "https://localhost:8080/",
     "height": 34
    },
    "colab_type": "code",
    "id": "APPUxzmiogxU",
    "outputId": "22bb24b5-60d4-4d95-f0b1-3e6c99b3437c"
   },
   "outputs": [
    {
     "data": {
      "text/plain": [
       "dict_keys(['val_loss', 'val_accuracy', 'loss', 'accuracy'])"
      ]
     },
     "execution_count": 26,
     "metadata": {
      "tags": []
     },
     "output_type": "execute_result"
    }
   ],
   "source": [
    "history_dict1 = history1.history\n",
    "history_dict1.keys()"
   ]
  },
  {
   "cell_type": "code",
   "execution_count": null,
   "metadata": {
    "colab": {
     "base_uri": "https://localhost:8080/",
     "height": 297
    },
    "colab_type": "code",
    "id": "ibKwQ3kKoh8I",
    "outputId": "8176e1c4-f2ef-4508-942b-3d7ca3aa9e30"
   },
   "outputs": [
    {
     "data": {
      "image/png": "[encoded data removed]",
      "text/plain": [
       "<Figure size 432x288 with 1 Axes>"
      ]
     },
     "metadata": {
      "needs_background": "light",
      "tags": []
     },
     "output_type": "display_data"
    }
   ],
   "source": [
    "# Plot da Acurácia de Treinamento e Validação\n",
    "plt.plot(history_dict1['accuracy'])\n",
    "plt.plot(history_dict1['val_accuracy'])\n",
    "plt.title('Acurácia de Treinamento e Validação')\n",
    "plt.ylabel('Acurácia')\n",
    "plt.xlabel('Épocas')\n",
    "plt.legend(['Acurácia de Treinamento', 'Acurácia de Validação'], loc='upper left')\n",
    "plt.show()"
   ]
  },
  {
   "cell_type": "code",
   "execution_count": null,
   "metadata": {
    "colab": {
     "base_uri": "https://localhost:8080/",
     "height": 297
    },
    "colab_type": "code",
    "id": "sd79MuFZokBJ",
    "outputId": "aac8eeb0-faad-438e-ef5e-c4b962fa05c5"
   },
   "outputs": [
    {
     "data": {
      "image/png": "[encoded data removed]",
      "text/plain": [
       "<Figure size 432x288 with 1 Axes>"
      ]
     },
     "metadata": {
      "needs_background": "light",
      "tags": []
     },
     "output_type": "display_data"
    }
   ],
   "source": [
    "# Plot da Erros de Treinamento e Validação\n",
    "plt.plot(history_dict1['loss'])\n",
    "plt.plot(history_dict1['val_loss'])\n",
    "plt.title('Erros de Treinamento e Validação')\n",
    "plt.ylabel('Erros')\n",
    "plt.xlabel('Épocas')\n",
    "plt.legend(['Erros de Treinamento', 'Erros de Validação'], loc='upper left')\n",
    "plt.show()"
   ]
  },
  {
   "cell_type": "code",
   "execution_count": null,
   "metadata": {
    "colab": {
     "base_uri": "https://localhost:8080/",
     "height": 51
    },
    "colab_type": "code",
    "id": "HsEsdInZ1NS7",
    "outputId": "3330a93b-4429-416e-8077-36c386c4ea69"
   },
   "outputs": [
    {
     "name": "stdout",
     "output_type": "stream",
     "text": [
      "10000/10000 [==============================] - 0s 48us/step\n"
     ]
    },
    {
     "data": {
      "text/plain": [
       "[1.6038595747179418, 0.9782000184059143]"
      ]
     },
     "execution_count": 53,
     "metadata": {
      "tags": []
     },
     "output_type": "execute_result"
    }
   ],
   "source": [
    "# Teste\n",
    "model1.evaluate(X_test, y_test2)"
   ]
  },
  {
   "cell_type": "markdown",
   "metadata": {
    "colab_type": "text",
    "id": "m6jKDIfAppK8"
   },
   "source": [
    "#### Modelo 2 - Dados Normalizados"
   ]
  },
  {
   "cell_type": "code",
   "execution_count": null,
   "metadata": {
    "colab": {},
    "colab_type": "code",
    "id": "dC_VuAYIpy19"
   },
   "outputs": [],
   "source": [
    "train_images = X_train.astype('float32') / 255\n",
    "test_images = X_test.astype('float32') / 255"
   ]
  },
  {
   "cell_type": "code",
   "execution_count": null,
   "metadata": {
    "colab": {},
    "colab_type": "code",
    "id": "pfNUP78iWIUP"
   },
   "outputs": [],
   "source": [
    "model2 = models.Sequential()"
   ]
  },
  {
   "cell_type": "code",
   "execution_count": null,
   "metadata": {
    "colab": {
     "base_uri": "https://localhost:8080/",
     "height": 221
    },
    "colab_type": "code",
    "id": "lO0grVIHqZRC",
    "outputId": "45edc658-e906-479d-848b-0962ae161d44"
   },
   "outputs": [
    {
     "name": "stdout",
     "output_type": "stream",
     "text": [
      "Model: \"sequential_2\"\n",
      "_________________________________________________________________\n",
      "Layer (type)                 Output Shape              Param #   \n",
      "=================================================================\n",
      "dense_3 (Dense)              (None, 512)               401920    \n",
      "_________________________________________________________________\n",
      "dense_4 (Dense)              (None, 10)                5130      \n",
      "=================================================================\n",
      "Total params: 407,050\n",
      "Trainable params: 407,050\n",
      "Non-trainable params: 0\n",
      "_________________________________________________________________\n"
     ]
    }
   ],
   "source": [
    "# 1ª Camada\n",
    "model2.add(layers.Dense(512, activation='relu', input_shape=(28*28,)))\n",
    "# Camada de Output\n",
    "model2.add(layers.Dense(10, activation='softmax'))\n",
    "\n",
    "# Compilando a Rede\n",
    "model2.compile(optimizer='rmsprop', loss='categorical_crossentropy', metrics=['accuracy'])\n",
    "\n",
    "model2.summary()"
   ]
  },
  {
   "cell_type": "code",
   "execution_count": null,
   "metadata": {
    "colab": {
     "base_uri": "https://localhost:8080/",
     "height": 1000
    },
    "colab_type": "code",
    "id": "Z1Gy2lImqk4J",
    "outputId": "8de23d29-ea57-4294-92b0-bdbfdb174194"
   },
   "outputs": [
    {
     "name": "stdout",
     "output_type": "stream",
     "text": [
      "Train on 48000 samples, validate on 12000 samples\n",
      "Epoch 1/50\n",
      "48000/48000 [==============================] - 1s 24us/step - loss: 0.2843 - accuracy: 0.9176 - val_loss: 0.1483 - val_accuracy: 0.9561\n",
      "Epoch 2/50\n",
      "48000/48000 [==============================] - 1s 23us/step - loss: 0.1162 - accuracy: 0.9654 - val_loss: 0.1065 - val_accuracy: 0.9688\n",
      "Epoch 3/50\n",
      "48000/48000 [==============================] - 1s 23us/step - loss: 0.0762 - accuracy: 0.9771 - val_loss: 0.0891 - val_accuracy: 0.9745\n",
      "Epoch 4/50\n",
      "48000/48000 [==============================] - 1s 23us/step - loss: 0.0544 - accuracy: 0.9838 - val_loss: 0.0862 - val_accuracy: 0.9760\n",
      "Epoch 5/50\n",
      "48000/48000 [==============================] - 1s 24us/step - loss: 0.0410 - accuracy: 0.9884 - val_loss: 0.0851 - val_accuracy: 0.9752\n",
      "Epoch 6/50\n",
      "48000/48000 [==============================] - 1s 24us/step - loss: 0.0300 - accuracy: 0.9911 - val_loss: 0.0780 - val_accuracy: 0.9781\n",
      "Epoch 7/50\n",
      "48000/48000 [==============================] - 1s 23us/step - loss: 0.0231 - accuracy: 0.9935 - val_loss: 0.0764 - val_accuracy: 0.9802\n",
      "Epoch 8/50\n",
      "48000/48000 [==============================] - 1s 24us/step - loss: 0.0175 - accuracy: 0.9949 - val_loss: 0.0845 - val_accuracy: 0.9787\n",
      "Epoch 9/50\n",
      "48000/48000 [==============================] - 1s 24us/step - loss: 0.0137 - accuracy: 0.9963 - val_loss: 0.0838 - val_accuracy: 0.9800\n",
      "Epoch 10/50\n",
      "48000/48000 [==============================] - 1s 23us/step - loss: 0.0102 - accuracy: 0.9973 - val_loss: 0.0953 - val_accuracy: 0.9768\n",
      "Epoch 11/50\n",
      "48000/48000 [==============================] - 1s 23us/step - loss: 0.0077 - accuracy: 0.9979 - val_loss: 0.0935 - val_accuracy: 0.9797\n",
      "Epoch 12/50\n",
      "48000/48000 [==============================] - 1s 23us/step - loss: 0.0057 - accuracy: 0.9986 - val_loss: 0.0924 - val_accuracy: 0.9789\n",
      "Epoch 13/50\n",
      "48000/48000 [==============================] - 1s 23us/step - loss: 0.0043 - accuracy: 0.9988 - val_loss: 0.0995 - val_accuracy: 0.9807\n",
      "Epoch 14/50\n",
      "48000/48000 [==============================] - 1s 24us/step - loss: 0.0033 - accuracy: 0.9992 - val_loss: 0.1038 - val_accuracy: 0.9796\n",
      "Epoch 15/50\n",
      "48000/48000 [==============================] - 1s 24us/step - loss: 0.0023 - accuracy: 0.9994 - val_loss: 0.1026 - val_accuracy: 0.9798\n",
      "Epoch 16/50\n",
      "48000/48000 [==============================] - 1s 23us/step - loss: 0.0021 - accuracy: 0.9996 - val_loss: 0.1068 - val_accuracy: 0.9816\n",
      "Epoch 17/50\n",
      "48000/48000 [==============================] - 1s 24us/step - loss: 0.0014 - accuracy: 0.9997 - val_loss: 0.1332 - val_accuracy: 0.9781\n",
      "Epoch 18/50\n",
      "48000/48000 [==============================] - 1s 24us/step - loss: 0.0015 - accuracy: 0.9995 - val_loss: 0.1191 - val_accuracy: 0.9808\n",
      "Epoch 19/50\n",
      "48000/48000 [==============================] - 1s 23us/step - loss: 0.0013 - accuracy: 0.9996 - val_loss: 0.1171 - val_accuracy: 0.9807\n",
      "Epoch 20/50\n",
      "48000/48000 [==============================] - 1s 23us/step - loss: 6.8262e-04 - accuracy: 0.9999 - val_loss: 0.1293 - val_accuracy: 0.9803\n",
      "Epoch 21/50\n",
      "48000/48000 [==============================] - 1s 24us/step - loss: 5.9569e-04 - accuracy: 0.9999 - val_loss: 0.1325 - val_accuracy: 0.9792\n",
      "Epoch 22/50\n",
      "48000/48000 [==============================] - 1s 24us/step - loss: 4.4882e-04 - accuracy: 0.9999 - val_loss: 0.1300 - val_accuracy: 0.9816\n",
      "Epoch 23/50\n",
      "48000/48000 [==============================] - 1s 24us/step - loss: 3.8247e-04 - accuracy: 0.9999 - val_loss: 0.1408 - val_accuracy: 0.9805\n",
      "Epoch 24/50\n",
      "48000/48000 [==============================] - 1s 23us/step - loss: 3.9161e-04 - accuracy: 0.9999 - val_loss: 0.1340 - val_accuracy: 0.9817\n",
      "Epoch 25/50\n",
      "48000/48000 [==============================] - 1s 24us/step - loss: 2.3664e-04 - accuracy: 0.9999 - val_loss: 0.1486 - val_accuracy: 0.9803\n",
      "Epoch 26/50\n",
      "48000/48000 [==============================] - 1s 23us/step - loss: 2.8478e-04 - accuracy: 1.0000 - val_loss: 0.1369 - val_accuracy: 0.9820\n",
      "Epoch 27/50\n",
      "48000/48000 [==============================] - 1s 24us/step - loss: 1.6302e-04 - accuracy: 1.0000 - val_loss: 0.1396 - val_accuracy: 0.9815\n",
      "Epoch 28/50\n",
      "48000/48000 [==============================] - 1s 23us/step - loss: 6.7796e-05 - accuracy: 1.0000 - val_loss: 0.1496 - val_accuracy: 0.9817\n",
      "Epoch 29/50\n",
      "48000/48000 [==============================] - 1s 24us/step - loss: 1.0821e-04 - accuracy: 1.0000 - val_loss: 0.1536 - val_accuracy: 0.9805\n",
      "Epoch 30/50\n",
      "48000/48000 [==============================] - 1s 24us/step - loss: 1.0648e-04 - accuracy: 1.0000 - val_loss: 0.1528 - val_accuracy: 0.9824\n",
      "Epoch 31/50\n",
      "48000/48000 [==============================] - 1s 23us/step - loss: 1.4454e-04 - accuracy: 1.0000 - val_loss: 0.1547 - val_accuracy: 0.9812\n",
      "Epoch 32/50\n",
      "48000/48000 [==============================] - 1s 23us/step - loss: 8.8112e-05 - accuracy: 1.0000 - val_loss: 0.1643 - val_accuracy: 0.9808\n",
      "Epoch 33/50\n",
      "48000/48000 [==============================] - 1s 23us/step - loss: 1.8456e-04 - accuracy: 1.0000 - val_loss: 0.1740 - val_accuracy: 0.9808\n",
      "Epoch 34/50\n",
      "48000/48000 [==============================] - 1s 24us/step - loss: 1.2109e-05 - accuracy: 1.0000 - val_loss: 0.1755 - val_accuracy: 0.9803\n",
      "Epoch 35/50\n",
      "48000/48000 [==============================] - 1s 23us/step - loss: 2.8992e-05 - accuracy: 1.0000 - val_loss: 0.1650 - val_accuracy: 0.9819\n",
      "Epoch 36/50\n",
      "48000/48000 [==============================] - 1s 24us/step - loss: 1.6848e-05 - accuracy: 1.0000 - val_loss: 0.1667 - val_accuracy: 0.9812\n",
      "Epoch 37/50\n",
      "48000/48000 [==============================] - 1s 24us/step - loss: 4.0624e-06 - accuracy: 1.0000 - val_loss: 0.1794 - val_accuracy: 0.9809\n",
      "Epoch 38/50\n",
      "48000/48000 [==============================] - 1s 23us/step - loss: 3.0271e-06 - accuracy: 1.0000 - val_loss: 0.1719 - val_accuracy: 0.9826\n",
      "Epoch 39/50\n",
      "48000/48000 [==============================] - 1s 24us/step - loss: 1.6315e-05 - accuracy: 1.0000 - val_loss: 0.1703 - val_accuracy: 0.9827\n",
      "Epoch 40/50\n",
      "48000/48000 [==============================] - 1s 24us/step - loss: 1.9736e-06 - accuracy: 1.0000 - val_loss: 0.1728 - val_accuracy: 0.9824\n",
      "Epoch 41/50\n",
      "48000/48000 [==============================] - 1s 24us/step - loss: 3.5480e-07 - accuracy: 1.0000 - val_loss: 0.1717 - val_accuracy: 0.9827\n",
      "Epoch 42/50\n",
      "48000/48000 [==============================] - 1s 23us/step - loss: 5.5881e-08 - accuracy: 1.0000 - val_loss: 0.1740 - val_accuracy: 0.9833\n",
      "Epoch 43/50\n",
      "48000/48000 [==============================] - 1s 23us/step - loss: 3.7971e-08 - accuracy: 1.0000 - val_loss: 0.1755 - val_accuracy: 0.9830\n",
      "Epoch 44/50\n",
      "48000/48000 [==============================] - 1s 24us/step - loss: 2.9815e-08 - accuracy: 1.0000 - val_loss: 0.1772 - val_accuracy: 0.9828\n",
      "Epoch 45/50\n",
      "48000/48000 [==============================] - 1s 24us/step - loss: 2.6641e-08 - accuracy: 1.0000 - val_loss: 0.1780 - val_accuracy: 0.9830\n",
      "Epoch 46/50\n",
      "48000/48000 [==============================] - 1s 26us/step - loss: 2.3973e-08 - accuracy: 1.0000 - val_loss: 0.1779 - val_accuracy: 0.9830\n",
      "Epoch 47/50\n",
      "48000/48000 [==============================] - 1s 25us/step - loss: 2.1771e-08 - accuracy: 1.0000 - val_loss: 0.1786 - val_accuracy: 0.9829\n",
      "Epoch 48/50\n",
      "48000/48000 [==============================] - 1s 26us/step - loss: 2.0181e-08 - accuracy: 1.0000 - val_loss: 0.1796 - val_accuracy: 0.9827\n",
      "Epoch 49/50\n",
      "48000/48000 [==============================] - 1s 25us/step - loss: 1.8887e-08 - accuracy: 1.0000 - val_loss: 0.1800 - val_accuracy: 0.9826\n",
      "Epoch 50/50\n",
      "48000/48000 [==============================] - 1s 26us/step - loss: 1.7700e-08 - accuracy: 1.0000 - val_loss: 0.1806 - val_accuracy: 0.9829\n"
     ]
    }
   ],
   "source": [
    "history2 = model2.fit(train_images, y_train2, validation_split=0.2, batch_size = 128, epochs = 50, verbose = 1)"
   ]
  },
  {
   "cell_type": "code",
   "execution_count": null,
   "metadata": {
    "colab": {
     "base_uri": "https://localhost:8080/",
     "height": 34
    },
    "colab_type": "code",
    "id": "y2ep59cMrYLx",
    "outputId": "e416ceec-e16e-4a1f-9c61-c1a58cf80dbe"
   },
   "outputs": [
    {
     "data": {
      "text/plain": [
       "dict_keys(['val_loss', 'val_accuracy', 'loss', 'accuracy'])"
      ]
     },
     "execution_count": 34,
     "metadata": {
      "tags": []
     },
     "output_type": "execute_result"
    }
   ],
   "source": [
    "history_dict2 = history2.history\n",
    "history_dict2.keys()"
   ]
  },
  {
   "cell_type": "code",
   "execution_count": null,
   "metadata": {
    "colab": {
     "base_uri": "https://localhost:8080/",
     "height": 297
    },
    "colab_type": "code",
    "id": "4GCnraLMrY3h",
    "outputId": "788df2ff-5d43-4ec3-b6dc-0bd58b323fad"
   },
   "outputs": [
    {
     "data": {
      "image/png": "[encoded data removed]",
      "text/plain": [
       "<Figure size 432x288 with 1 Axes>"
      ]
     },
     "metadata": {
      "needs_background": "light",
      "tags": []
     },
     "output_type": "display_data"
    }
   ],
   "source": [
    "# Plot da Acurácia de Treinamento e Validação\n",
    "plt.plot(history_dict2['accuracy'])\n",
    "plt.plot(history_dict2['val_accuracy'])\n",
    "plt.title('Acurácia de Treinamento e Validação')\n",
    "plt.ylabel('Acurácia')\n",
    "plt.xlabel('Épocas')\n",
    "plt.legend(['Acurácia de Treinamento', 'Acurácia de Validação'], loc='upper left')\n",
    "plt.show()"
   ]
  },
  {
   "cell_type": "code",
   "execution_count": null,
   "metadata": {
    "colab": {
     "base_uri": "https://localhost:8080/",
     "height": 297
    },
    "colab_type": "code",
    "id": "XBIa8tQ-rc5C",
    "outputId": "a9d98266-2669-4406-c4f3-763d330be5e4"
   },
   "outputs": [
    {
     "data": {
      "image/png": "[encoded data removed]",
      "text/plain": [
       "<Figure size 432x288 with 1 Axes>"
      ]
     },
     "metadata": {
      "needs_background": "light",
      "tags": []
     },
     "output_type": "display_data"
    }
   ],
   "source": [
    "# Plot da Erros de Treinamento e Validação\n",
    "plt.plot(history_dict2['loss'])\n",
    "plt.plot(history_dict2['val_loss'])\n",
    "plt.title('Erros de Treinamento e Validação')\n",
    "plt.ylabel('Erros')\n",
    "plt.xlabel('Épocas')\n",
    "plt.legend(['Erros de Treinamento', 'Erros de Validação'], loc='upper left')\n",
    "plt.show()"
   ]
  },
  {
   "cell_type": "code",
   "execution_count": null,
   "metadata": {
    "colab": {
     "base_uri": "https://localhost:8080/",
     "height": 51
    },
    "colab_type": "code",
    "id": "8E5hcSp91jl5",
    "outputId": "29fd0aac-7ffc-4ce0-89ef-5d119492b3c3"
   },
   "outputs": [
    {
     "name": "stdout",
     "output_type": "stream",
     "text": [
      "10000/10000 [==============================] - 0s 47us/step\n"
     ]
    },
    {
     "data": {
      "text/plain": [
       "[0.14176438022506718, 0.9832000136375427]"
      ]
     },
     "execution_count": 54,
     "metadata": {
      "tags": []
     },
     "output_type": "execute_result"
    }
   ],
   "source": [
    "# Teste\n",
    "model2.evaluate(test_images, y_test2)"
   ]
  },
  {
   "cell_type": "markdown",
   "metadata": {
    "colab_type": "text",
    "id": "eRbT4g6ytECm"
   },
   "source": [
    "#### Modelo 3 - Dados Normalizados - 3 Camadas"
   ]
  },
  {
   "cell_type": "code",
   "execution_count": null,
   "metadata": {
    "colab": {},
    "colab_type": "code",
    "id": "CdfmLhqmtDN6"
   },
   "outputs": [],
   "source": [
    "model3 = models.Sequential()"
   ]
  },
  {
   "cell_type": "code",
   "execution_count": null,
   "metadata": {
    "colab": {
     "base_uri": "https://localhost:8080/",
     "height": 255
    },
    "colab_type": "code",
    "id": "ZiQbRF9utX1Z",
    "outputId": "17c0ee68-8710-4542-c27c-0be2b012a29f"
   },
   "outputs": [
    {
     "name": "stdout",
     "output_type": "stream",
     "text": [
      "Model: \"sequential_3\"\n",
      "_________________________________________________________________\n",
      "Layer (type)                 Output Shape              Param #   \n",
      "=================================================================\n",
      "dense_5 (Dense)              (None, 512)               401920    \n",
      "_________________________________________________________________\n",
      "dense_6 (Dense)              (None, 256)               131328    \n",
      "_________________________________________________________________\n",
      "dense_7 (Dense)              (None, 10)                2570      \n",
      "=================================================================\n",
      "Total params: 535,818\n",
      "Trainable params: 535,818\n",
      "Non-trainable params: 0\n",
      "_________________________________________________________________\n"
     ]
    }
   ],
   "source": [
    "# 1ª Camada\n",
    "model3.add(layers.Dense(512, activation='relu', input_shape=(28*28,)))\n",
    "# 2ª Camada Escondida\n",
    "model3.add(layers.Dense(256, activation = 'relu'))\n",
    "# Camada de Output\n",
    "model3.add(layers.Dense(10, activation='softmax'))\n",
    "\n",
    "# Compilando a Rede\n",
    "model3.compile(optimizer='rmsprop', loss='categorical_crossentropy', metrics=['accuracy'])\n",
    "\n",
    "model3.summary()"
   ]
  },
  {
   "cell_type": "code",
   "execution_count": null,
   "metadata": {
    "colab": {
     "base_uri": "https://localhost:8080/",
     "height": 1000
    },
    "colab_type": "code",
    "id": "jT4tjMnWtw3w",
    "outputId": "0a7f1fe4-1dc2-485c-90eb-355f47e3bca5"
   },
   "outputs": [
    {
     "name": "stdout",
     "output_type": "stream",
     "text": [
      "Train on 48000 samples, validate on 12000 samples\n",
      "Epoch 1/50\n",
      "48000/48000 [==============================] - 1s 28us/step - loss: 0.2497 - accuracy: 0.9235 - val_loss: 0.1417 - val_accuracy: 0.9561\n",
      "Epoch 2/50\n",
      "48000/48000 [==============================] - 1s 27us/step - loss: 0.0925 - accuracy: 0.9715 - val_loss: 0.0999 - val_accuracy: 0.9691\n",
      "Epoch 3/50\n",
      "48000/48000 [==============================] - 1s 26us/step - loss: 0.0587 - accuracy: 0.9810 - val_loss: 0.0860 - val_accuracy: 0.9763\n",
      "Epoch 4/50\n",
      "48000/48000 [==============================] - 1s 26us/step - loss: 0.0406 - accuracy: 0.9869 - val_loss: 0.0946 - val_accuracy: 0.9756\n",
      "Epoch 5/50\n",
      "48000/48000 [==============================] - 1s 26us/step - loss: 0.0291 - accuracy: 0.9907 - val_loss: 0.0848 - val_accuracy: 0.9785\n",
      "Epoch 6/50\n",
      "48000/48000 [==============================] - 1s 26us/step - loss: 0.0219 - accuracy: 0.9928 - val_loss: 0.1055 - val_accuracy: 0.9769\n",
      "Epoch 7/50\n",
      "48000/48000 [==============================] - 1s 26us/step - loss: 0.0175 - accuracy: 0.9940 - val_loss: 0.1114 - val_accuracy: 0.9795\n",
      "Epoch 8/50\n",
      "48000/48000 [==============================] - 1s 26us/step - loss: 0.0143 - accuracy: 0.9952 - val_loss: 0.1314 - val_accuracy: 0.9745\n",
      "Epoch 9/50\n",
      "48000/48000 [==============================] - 1s 26us/step - loss: 0.0114 - accuracy: 0.9961 - val_loss: 0.1339 - val_accuracy: 0.9762\n",
      "Epoch 10/50\n",
      "48000/48000 [==============================] - 1s 26us/step - loss: 0.0101 - accuracy: 0.9965 - val_loss: 0.1419 - val_accuracy: 0.9768\n",
      "Epoch 11/50\n",
      "48000/48000 [==============================] - 1s 26us/step - loss: 0.0086 - accuracy: 0.9971 - val_loss: 0.1460 - val_accuracy: 0.9773\n",
      "Epoch 12/50\n",
      "48000/48000 [==============================] - 1s 27us/step - loss: 0.0073 - accuracy: 0.9978 - val_loss: 0.1482 - val_accuracy: 0.9790\n",
      "Epoch 13/50\n",
      "48000/48000 [==============================] - 1s 26us/step - loss: 0.0079 - accuracy: 0.9975 - val_loss: 0.1662 - val_accuracy: 0.9790\n",
      "Epoch 14/50\n",
      "48000/48000 [==============================] - 1s 26us/step - loss: 0.0065 - accuracy: 0.9980 - val_loss: 0.1698 - val_accuracy: 0.9785\n",
      "Epoch 15/50\n",
      "48000/48000 [==============================] - 1s 26us/step - loss: 0.0059 - accuracy: 0.9981 - val_loss: 0.1514 - val_accuracy: 0.9806\n",
      "Epoch 16/50\n",
      "48000/48000 [==============================] - 1s 26us/step - loss: 0.0048 - accuracy: 0.9985 - val_loss: 0.1768 - val_accuracy: 0.9790\n",
      "Epoch 17/50\n",
      "48000/48000 [==============================] - 1s 26us/step - loss: 0.0053 - accuracy: 0.9983 - val_loss: 0.1610 - val_accuracy: 0.9795\n",
      "Epoch 18/50\n",
      "48000/48000 [==============================] - 1s 26us/step - loss: 0.0053 - accuracy: 0.9984 - val_loss: 0.1878 - val_accuracy: 0.9791\n",
      "Epoch 19/50\n",
      "48000/48000 [==============================] - 1s 26us/step - loss: 0.0048 - accuracy: 0.9988 - val_loss: 0.2099 - val_accuracy: 0.9770\n",
      "Epoch 20/50\n",
      "48000/48000 [==============================] - 1s 26us/step - loss: 0.0041 - accuracy: 0.9986 - val_loss: 0.1843 - val_accuracy: 0.9796\n",
      "Epoch 21/50\n",
      "48000/48000 [==============================] - 1s 26us/step - loss: 0.0038 - accuracy: 0.9990 - val_loss: 0.1985 - val_accuracy: 0.9801\n",
      "Epoch 22/50\n",
      "48000/48000 [==============================] - 1s 26us/step - loss: 0.0034 - accuracy: 0.9990 - val_loss: 0.2145 - val_accuracy: 0.9778\n",
      "Epoch 23/50\n",
      "48000/48000 [==============================] - 1s 26us/step - loss: 0.0025 - accuracy: 0.9991 - val_loss: 0.2366 - val_accuracy: 0.9788\n",
      "Epoch 24/50\n",
      "48000/48000 [==============================] - 1s 26us/step - loss: 0.0033 - accuracy: 0.9993 - val_loss: 0.2381 - val_accuracy: 0.9772\n",
      "Epoch 25/50\n",
      "48000/48000 [==============================] - 1s 26us/step - loss: 0.0031 - accuracy: 0.9991 - val_loss: 0.2035 - val_accuracy: 0.9792\n",
      "Epoch 26/50\n",
      "48000/48000 [==============================] - 1s 26us/step - loss: 0.0030 - accuracy: 0.9993 - val_loss: 0.2300 - val_accuracy: 0.9803\n",
      "Epoch 27/50\n",
      "48000/48000 [==============================] - 1s 26us/step - loss: 0.0025 - accuracy: 0.9992 - val_loss: 0.2708 - val_accuracy: 0.9775\n",
      "Epoch 28/50\n",
      "48000/48000 [==============================] - 1s 26us/step - loss: 0.0043 - accuracy: 0.9988 - val_loss: 0.2459 - val_accuracy: 0.9791\n",
      "Epoch 29/50\n",
      "48000/48000 [==============================] - 1s 26us/step - loss: 0.0018 - accuracy: 0.9996 - val_loss: 0.2279 - val_accuracy: 0.9814\n",
      "Epoch 30/50\n",
      "48000/48000 [==============================] - 1s 26us/step - loss: 0.0014 - accuracy: 0.9995 - val_loss: 0.2351 - val_accuracy: 0.9809\n",
      "Epoch 31/50\n",
      "48000/48000 [==============================] - 1s 26us/step - loss: 0.0028 - accuracy: 0.9993 - val_loss: 0.2538 - val_accuracy: 0.9795\n",
      "Epoch 32/50\n",
      "48000/48000 [==============================] - 1s 26us/step - loss: 0.0016 - accuracy: 0.9996 - val_loss: 0.2661 - val_accuracy: 0.9799\n",
      "Epoch 33/50\n",
      "48000/48000 [==============================] - 1s 26us/step - loss: 0.0013 - accuracy: 0.9998 - val_loss: 0.2968 - val_accuracy: 0.9771\n",
      "Epoch 34/50\n",
      "48000/48000 [==============================] - 1s 26us/step - loss: 0.0010 - accuracy: 0.9997 - val_loss: 0.2848 - val_accuracy: 0.9791\n",
      "Epoch 35/50\n",
      "48000/48000 [==============================] - 1s 26us/step - loss: 0.0013 - accuracy: 0.9997 - val_loss: 0.3112 - val_accuracy: 0.9764\n",
      "Epoch 36/50\n",
      "48000/48000 [==============================] - 1s 26us/step - loss: 0.0021 - accuracy: 0.9996 - val_loss: 0.2845 - val_accuracy: 0.9791\n",
      "Epoch 37/50\n",
      "48000/48000 [==============================] - 1s 26us/step - loss: 0.0021 - accuracy: 0.9994 - val_loss: 0.3068 - val_accuracy: 0.9779\n",
      "Epoch 38/50\n",
      "48000/48000 [==============================] - 1s 27us/step - loss: 0.0028 - accuracy: 0.9994 - val_loss: 0.2862 - val_accuracy: 0.9798\n",
      "Epoch 39/50\n",
      "48000/48000 [==============================] - 1s 26us/step - loss: 0.0012 - accuracy: 0.9997 - val_loss: 0.2896 - val_accuracy: 0.9795\n",
      "Epoch 40/50\n",
      "48000/48000 [==============================] - 1s 26us/step - loss: 0.0014 - accuracy: 0.9996 - val_loss: 0.2959 - val_accuracy: 0.9802\n",
      "Epoch 41/50\n",
      "48000/48000 [==============================] - 1s 26us/step - loss: 0.0018 - accuracy: 0.9995 - val_loss: 0.3283 - val_accuracy: 0.9783\n",
      "Epoch 42/50\n",
      "48000/48000 [==============================] - 1s 26us/step - loss: 0.0017 - accuracy: 0.9995 - val_loss: 0.2850 - val_accuracy: 0.9801\n",
      "Epoch 43/50\n",
      "48000/48000 [==============================] - 1s 26us/step - loss: 0.0012 - accuracy: 0.9997 - val_loss: 0.2878 - val_accuracy: 0.9811\n",
      "Epoch 44/50\n",
      "48000/48000 [==============================] - 1s 25us/step - loss: 0.0011 - accuracy: 0.9997 - val_loss: 0.2945 - val_accuracy: 0.9800\n",
      "Epoch 45/50\n",
      "48000/48000 [==============================] - 1s 26us/step - loss: 0.0014 - accuracy: 0.9996 - val_loss: 0.2971 - val_accuracy: 0.9803\n",
      "Epoch 46/50\n",
      "48000/48000 [==============================] - 1s 26us/step - loss: 9.6042e-04 - accuracy: 0.9998 - val_loss: 0.3110 - val_accuracy: 0.9798\n",
      "Epoch 47/50\n",
      "48000/48000 [==============================] - 1s 26us/step - loss: 0.0013 - accuracy: 0.9998 - val_loss: 0.3017 - val_accuracy: 0.9805\n",
      "Epoch 48/50\n",
      "48000/48000 [==============================] - 1s 26us/step - loss: 0.0013 - accuracy: 0.9998 - val_loss: 0.3058 - val_accuracy: 0.9812\n",
      "Epoch 49/50\n",
      "48000/48000 [==============================] - 1s 26us/step - loss: 0.0038 - accuracy: 0.9994 - val_loss: 0.3229 - val_accuracy: 0.9806\n",
      "Epoch 50/50\n",
      "48000/48000 [==============================] - 1s 26us/step - loss: 0.0016 - accuracy: 0.9996 - val_loss: 0.3064 - val_accuracy: 0.9803\n"
     ]
    }
   ],
   "source": [
    "history3 = model3.fit(train_images, y_train2, validation_split=0.2, batch_size = 128, epochs = 50, verbose = 1)"
   ]
  },
  {
   "cell_type": "code",
   "execution_count": null,
   "metadata": {
    "colab": {
     "base_uri": "https://localhost:8080/",
     "height": 34
    },
    "colab_type": "code",
    "id": "arTwtW0Xt63L",
    "outputId": "f66cd5ee-6f98-49cb-d198-1b2ed2377170"
   },
   "outputs": [
    {
     "data": {
      "text/plain": [
       "dict_keys(['val_loss', 'val_accuracy', 'loss', 'accuracy'])"
      ]
     },
     "execution_count": 41,
     "metadata": {
      "tags": []
     },
     "output_type": "execute_result"
    }
   ],
   "source": [
    "history_dict3 = history3.history\n",
    "history_dict3.keys()"
   ]
  },
  {
   "cell_type": "code",
   "execution_count": null,
   "metadata": {
    "colab": {
     "base_uri": "https://localhost:8080/",
     "height": 297
    },
    "colab_type": "code",
    "id": "QFq-YRgCuEhq",
    "outputId": "47ed9dfc-7a80-4330-d4e5-bdfa55f50c05"
   },
   "outputs": [
    {
     "data": {
      "image/png": "[encoded data removed]",
      "text/plain": [
       "<Figure size 432x288 with 1 Axes>"
      ]
     },
     "metadata": {
      "needs_background": "light",
      "tags": []
     },
     "output_type": "display_data"
    }
   ],
   "source": [
    "# Plot da Acurácia de Treinamento e Validação\n",
    "plt.plot(history_dict3['accuracy'])\n",
    "plt.plot(history_dict3['val_accuracy'])\n",
    "plt.title('Acurácia de Treinamento e Validação')\n",
    "plt.ylabel('Acurácia')\n",
    "plt.xlabel('Épocas')\n",
    "plt.legend(['Acurácia de Treinamento', 'Acurácia de Validação'], loc='upper left')\n",
    "plt.show()"
   ]
  },
  {
   "cell_type": "code",
   "execution_count": null,
   "metadata": {
    "colab": {
     "base_uri": "https://localhost:8080/",
     "height": 297
    },
    "colab_type": "code",
    "id": "R447lPnRuKJy",
    "outputId": "ae4a03cf-df15-412b-939d-9a67d7417a33"
   },
   "outputs": [
    {
     "data": {
      "image/png": "[encoded data removed]",
      "text/plain": [
       "<Figure size 432x288 with 1 Axes>"
      ]
     },
     "metadata": {
      "needs_background": "light",
      "tags": []
     },
     "output_type": "display_data"
    }
   ],
   "source": [
    "# Plot da Erros de Treinamento e Validação\n",
    "plt.plot(history_dict3['loss'])\n",
    "plt.plot(history_dict3['val_loss'])\n",
    "plt.title('Erros de Treinamento e Validação')\n",
    "plt.ylabel('Erros')\n",
    "plt.xlabel('Épocas')\n",
    "plt.legend(['Erros de Treinamento', 'Erros de Validação'], loc='upper left')\n",
    "plt.show()"
   ]
  },
  {
   "cell_type": "code",
   "execution_count": null,
   "metadata": {
    "colab": {
     "base_uri": "https://localhost:8080/",
     "height": 51
    },
    "colab_type": "code",
    "id": "QzqDc48V13UG",
    "outputId": "3214c959-9c94-4210-9f12-def926b41890"
   },
   "outputs": [
    {
     "name": "stdout",
     "output_type": "stream",
     "text": [
      "10000/10000 [==============================] - 1s 54us/step\n"
     ]
    },
    {
     "data": {
      "text/plain": [
       "[0.29231806451018044, 0.9811999797821045]"
      ]
     },
     "execution_count": 55,
     "metadata": {
      "tags": []
     },
     "output_type": "execute_result"
    }
   ],
   "source": [
    "# Teste\n",
    "model3.evaluate(test_images, y_test2)"
   ]
  },
  {
   "cell_type": "markdown",
   "metadata": {
    "colab_type": "text",
    "id": "dgBMOn-zf90y"
   },
   "source": [
    "#### Modelo 4 - Dados Normalizados - 4 Camadas"
   ]
  },
  {
   "cell_type": "code",
   "execution_count": null,
   "metadata": {
    "colab": {},
    "colab_type": "code",
    "id": "ptxx-ThmgB5O"
   },
   "outputs": [],
   "source": [
    "model4 = models.Sequential()"
   ]
  },
  {
   "cell_type": "code",
   "execution_count": null,
   "metadata": {
    "colab": {
     "base_uri": "https://localhost:8080/",
     "height": 289
    },
    "colab_type": "code",
    "id": "qnCjCjfDgILl",
    "outputId": "0b0041a3-55ef-40ab-d721-ebe64f2b9c4f"
   },
   "outputs": [
    {
     "name": "stdout",
     "output_type": "stream",
     "text": [
      "Model: \"sequential_4\"\n",
      "_________________________________________________________________\n",
      "Layer (type)                 Output Shape              Param #   \n",
      "=================================================================\n",
      "dense_8 (Dense)              (None, 512)               401920    \n",
      "_________________________________________________________________\n",
      "dense_9 (Dense)              (None, 256)               131328    \n",
      "_________________________________________________________________\n",
      "dense_10 (Dense)             (None, 128)               32896     \n",
      "_________________________________________________________________\n",
      "dense_11 (Dense)             (None, 10)                1290      \n",
      "=================================================================\n",
      "Total params: 567,434\n",
      "Trainable params: 567,434\n",
      "Non-trainable params: 0\n",
      "_________________________________________________________________\n"
     ]
    }
   ],
   "source": [
    "# 1ª Camada\n",
    "model4.add(layers.Dense(512, activation='relu', input_shape=(28*28,)))\n",
    "# 2ª Camada Escondida\n",
    "model4.add(layers.Dense(256, activation = 'relu'))\n",
    "# 3ª Camada Escondida\n",
    "model4.add(layers.Dense(128, activation = 'relu'))\n",
    "# Camada de Output\n",
    "model4.add(layers.Dense(10, activation='softmax'))\n",
    "\n",
    "# Compilando a Rede\n",
    "model4.compile(optimizer='rmsprop', loss='categorical_crossentropy', metrics=['accuracy'])\n",
    "\n",
    "model4.summary()"
   ]
  },
  {
   "cell_type": "code",
   "execution_count": null,
   "metadata": {
    "colab": {
     "base_uri": "https://localhost:8080/",
     "height": 1000
    },
    "colab_type": "code",
    "id": "ikB6NWV8gSYO",
    "outputId": "cc02d869-f1fd-4fb9-85ee-42af09f29078"
   },
   "outputs": [
    {
     "name": "stdout",
     "output_type": "stream",
     "text": [
      "Train on 48000 samples, validate on 12000 samples\n",
      "Epoch 1/50\n",
      "48000/48000 [==============================] - 1s 29us/step - loss: 0.2678 - accuracy: 0.9184 - val_loss: 0.1128 - val_accuracy: 0.9657\n",
      "Epoch 2/50\n",
      "48000/48000 [==============================] - 1s 26us/step - loss: 0.0965 - accuracy: 0.9705 - val_loss: 0.1030 - val_accuracy: 0.9710\n",
      "Epoch 3/50\n",
      "48000/48000 [==============================] - 1s 27us/step - loss: 0.0628 - accuracy: 0.9812 - val_loss: 0.0981 - val_accuracy: 0.9715\n",
      "Epoch 4/50\n",
      "48000/48000 [==============================] - 1s 27us/step - loss: 0.0456 - accuracy: 0.9858 - val_loss: 0.0857 - val_accuracy: 0.9781\n",
      "Epoch 5/50\n",
      "48000/48000 [==============================] - 1s 26us/step - loss: 0.0356 - accuracy: 0.9890 - val_loss: 0.0941 - val_accuracy: 0.9755\n",
      "Epoch 6/50\n",
      "48000/48000 [==============================] - 1s 26us/step - loss: 0.0265 - accuracy: 0.9922 - val_loss: 0.1158 - val_accuracy: 0.9769\n",
      "Epoch 7/50\n",
      "48000/48000 [==============================] - 1s 27us/step - loss: 0.0228 - accuracy: 0.9930 - val_loss: 0.1235 - val_accuracy: 0.9747\n",
      "Epoch 8/50\n",
      "48000/48000 [==============================] - 1s 28us/step - loss: 0.0183 - accuracy: 0.9940 - val_loss: 0.1179 - val_accuracy: 0.9778\n",
      "Epoch 9/50\n",
      "48000/48000 [==============================] - 1s 28us/step - loss: 0.0149 - accuracy: 0.9958 - val_loss: 0.1550 - val_accuracy: 0.9756\n",
      "Epoch 10/50\n",
      "48000/48000 [==============================] - 1s 28us/step - loss: 0.0156 - accuracy: 0.9958 - val_loss: 0.1561 - val_accuracy: 0.9769\n",
      "Epoch 11/50\n",
      "48000/48000 [==============================] - 1s 28us/step - loss: 0.0139 - accuracy: 0.9960 - val_loss: 0.1383 - val_accuracy: 0.9788\n",
      "Epoch 12/50\n",
      "48000/48000 [==============================] - 1s 27us/step - loss: 0.0106 - accuracy: 0.9969 - val_loss: 0.1625 - val_accuracy: 0.9794\n",
      "Epoch 13/50\n",
      "48000/48000 [==============================] - 1s 26us/step - loss: 0.0111 - accuracy: 0.9970 - val_loss: 0.1582 - val_accuracy: 0.9783\n",
      "Epoch 14/50\n",
      "48000/48000 [==============================] - 1s 27us/step - loss: 0.0097 - accuracy: 0.9975 - val_loss: 0.2138 - val_accuracy: 0.9759\n",
      "Epoch 15/50\n",
      "48000/48000 [==============================] - 1s 26us/step - loss: 0.0100 - accuracy: 0.9974 - val_loss: 0.1709 - val_accuracy: 0.9803\n",
      "Epoch 16/50\n",
      "48000/48000 [==============================] - 1s 26us/step - loss: 0.0087 - accuracy: 0.9977 - val_loss: 0.1805 - val_accuracy: 0.9800\n",
      "Epoch 17/50\n",
      "48000/48000 [==============================] - 1s 27us/step - loss: 0.0077 - accuracy: 0.9980 - val_loss: 0.1757 - val_accuracy: 0.9799\n",
      "Epoch 18/50\n",
      "48000/48000 [==============================] - 1s 26us/step - loss: 0.0064 - accuracy: 0.9979 - val_loss: 0.2150 - val_accuracy: 0.9789\n",
      "Epoch 19/50\n",
      "48000/48000 [==============================] - 1s 26us/step - loss: 0.0070 - accuracy: 0.9981 - val_loss: 0.1848 - val_accuracy: 0.9787\n",
      "Epoch 20/50\n",
      "48000/48000 [==============================] - 1s 26us/step - loss: 0.0061 - accuracy: 0.9986 - val_loss: 0.2288 - val_accuracy: 0.9774\n",
      "Epoch 21/50\n",
      "48000/48000 [==============================] - 1s 27us/step - loss: 0.0094 - accuracy: 0.9982 - val_loss: 0.2409 - val_accuracy: 0.9786\n",
      "Epoch 22/50\n",
      "48000/48000 [==============================] - 1s 27us/step - loss: 0.0074 - accuracy: 0.9983 - val_loss: 0.2521 - val_accuracy: 0.9754\n",
      "Epoch 23/50\n",
      "48000/48000 [==============================] - 1s 27us/step - loss: 0.0044 - accuracy: 0.9987 - val_loss: 0.2284 - val_accuracy: 0.9801\n",
      "Epoch 24/50\n",
      "48000/48000 [==============================] - 1s 26us/step - loss: 0.0059 - accuracy: 0.9980 - val_loss: 0.2462 - val_accuracy: 0.9783\n",
      "Epoch 25/50\n",
      "48000/48000 [==============================] - 1s 26us/step - loss: 0.0062 - accuracy: 0.9986 - val_loss: 0.2597 - val_accuracy: 0.9774\n",
      "Epoch 26/50\n",
      "48000/48000 [==============================] - 1s 26us/step - loss: 0.0055 - accuracy: 0.9989 - val_loss: 0.2882 - val_accuracy: 0.9789\n",
      "Epoch 27/50\n",
      "48000/48000 [==============================] - 1s 27us/step - loss: 0.0055 - accuracy: 0.9988 - val_loss: 0.2888 - val_accuracy: 0.9799\n",
      "Epoch 28/50\n",
      "48000/48000 [==============================] - 1s 27us/step - loss: 0.0068 - accuracy: 0.9987 - val_loss: 0.2875 - val_accuracy: 0.9800\n",
      "Epoch 29/50\n",
      "48000/48000 [==============================] - 1s 27us/step - loss: 0.0052 - accuracy: 0.9990 - val_loss: 0.2828 - val_accuracy: 0.9779\n",
      "Epoch 30/50\n",
      "48000/48000 [==============================] - 1s 27us/step - loss: 0.0058 - accuracy: 0.9987 - val_loss: 0.2866 - val_accuracy: 0.9783\n",
      "Epoch 31/50\n",
      "48000/48000 [==============================] - 1s 27us/step - loss: 0.0064 - accuracy: 0.9987 - val_loss: 0.2895 - val_accuracy: 0.9787\n",
      "Epoch 32/50\n",
      "48000/48000 [==============================] - 1s 26us/step - loss: 0.0046 - accuracy: 0.9990 - val_loss: 0.3111 - val_accuracy: 0.9806\n",
      "Epoch 33/50\n",
      "48000/48000 [==============================] - 1s 26us/step - loss: 0.0056 - accuracy: 0.9988 - val_loss: 0.3116 - val_accuracy: 0.9789\n",
      "Epoch 34/50\n",
      "48000/48000 [==============================] - 1s 27us/step - loss: 0.0057 - accuracy: 0.9988 - val_loss: 0.2805 - val_accuracy: 0.9799\n",
      "Epoch 35/50\n",
      "48000/48000 [==============================] - 1s 26us/step - loss: 0.0053 - accuracy: 0.9989 - val_loss: 0.3013 - val_accuracy: 0.9803\n",
      "Epoch 36/50\n",
      "48000/48000 [==============================] - 1s 27us/step - loss: 0.0074 - accuracy: 0.9985 - val_loss: 0.2946 - val_accuracy: 0.9821\n",
      "Epoch 37/50\n",
      "48000/48000 [==============================] - 1s 27us/step - loss: 0.0031 - accuracy: 0.9993 - val_loss: 0.3051 - val_accuracy: 0.9797\n",
      "Epoch 38/50\n",
      "48000/48000 [==============================] - 1s 27us/step - loss: 0.0061 - accuracy: 0.9989 - val_loss: 0.3402 - val_accuracy: 0.9782\n",
      "Epoch 39/50\n",
      "48000/48000 [==============================] - 1s 27us/step - loss: 0.0060 - accuracy: 0.9989 - val_loss: 0.3037 - val_accuracy: 0.9822\n",
      "Epoch 40/50\n",
      "48000/48000 [==============================] - 1s 27us/step - loss: 0.0057 - accuracy: 0.9989 - val_loss: 0.3205 - val_accuracy: 0.9797\n",
      "Epoch 41/50\n",
      "48000/48000 [==============================] - 1s 27us/step - loss: 0.0056 - accuracy: 0.9990 - val_loss: 0.3437 - val_accuracy: 0.9798\n",
      "Epoch 42/50\n",
      "48000/48000 [==============================] - 1s 27us/step - loss: 0.0030 - accuracy: 0.9993 - val_loss: 0.3628 - val_accuracy: 0.9799\n",
      "Epoch 43/50\n",
      "48000/48000 [==============================] - 1s 27us/step - loss: 0.0036 - accuracy: 0.9994 - val_loss: 0.3443 - val_accuracy: 0.9805\n",
      "Epoch 44/50\n",
      "48000/48000 [==============================] - 1s 27us/step - loss: 0.0038 - accuracy: 0.9994 - val_loss: 0.3811 - val_accuracy: 0.9789\n",
      "Epoch 45/50\n",
      "48000/48000 [==============================] - 1s 27us/step - loss: 0.0061 - accuracy: 0.9991 - val_loss: 0.3461 - val_accuracy: 0.9812\n",
      "Epoch 46/50\n",
      "48000/48000 [==============================] - 1s 27us/step - loss: 0.0054 - accuracy: 0.9990 - val_loss: 0.3721 - val_accuracy: 0.9797\n",
      "Epoch 47/50\n",
      "48000/48000 [==============================] - 1s 26us/step - loss: 0.0048 - accuracy: 0.9992 - val_loss: 0.3613 - val_accuracy: 0.9805\n",
      "Epoch 48/50\n",
      "48000/48000 [==============================] - 1s 26us/step - loss: 0.0048 - accuracy: 0.9991 - val_loss: 0.3938 - val_accuracy: 0.9803\n",
      "Epoch 49/50\n",
      "48000/48000 [==============================] - 1s 26us/step - loss: 0.0032 - accuracy: 0.9993 - val_loss: 0.3904 - val_accuracy: 0.9803\n",
      "Epoch 50/50\n",
      "48000/48000 [==============================] - 1s 28us/step - loss: 0.0043 - accuracy: 0.9992 - val_loss: 0.4120 - val_accuracy: 0.9779\n"
     ]
    }
   ],
   "source": [
    "history4 = model4.fit(train_images, y_train2, validation_split=0.2, batch_size = 128, epochs = 50, verbose = 1)"
   ]
  },
  {
   "cell_type": "code",
   "execution_count": null,
   "metadata": {
    "colab": {
     "base_uri": "https://localhost:8080/",
     "height": 34
    },
    "colab_type": "code",
    "id": "cgNUbO_ogdxK",
    "outputId": "22675a43-ca05-4a6c-a2a6-067e764aca64"
   },
   "outputs": [
    {
     "data": {
      "text/plain": [
       "dict_keys(['val_loss', 'val_accuracy', 'loss', 'accuracy'])"
      ]
     },
     "execution_count": 48,
     "metadata": {
      "tags": []
     },
     "output_type": "execute_result"
    }
   ],
   "source": [
    "history_dict4 = history4.history\n",
    "history_dict4.keys()"
   ]
  },
  {
   "cell_type": "code",
   "execution_count": null,
   "metadata": {
    "colab": {
     "base_uri": "https://localhost:8080/",
     "height": 297
    },
    "colab_type": "code",
    "id": "HqwyQnfagjqt",
    "outputId": "cd5bb2c8-51fb-4ffb-9485-12f996d13694"
   },
   "outputs": [
    {
     "data": {
      "image/png": "[encoded data removed]",
      "text/plain": [
       "<Figure size 432x288 with 1 Axes>"
      ]
     },
     "metadata": {
      "needs_background": "light",
      "tags": []
     },
     "output_type": "display_data"
    }
   ],
   "source": [
    "# Plot da Acurácia de Treinamento e Validação\n",
    "plt.plot(history_dict4['accuracy'])\n",
    "plt.plot(history_dict4['val_accuracy'])\n",
    "plt.title('Acurácia de Treinamento e Validação')\n",
    "plt.ylabel('Acurácia')\n",
    "plt.xlabel('Épocas')\n",
    "plt.legend(['Acurácia de Treinamento', 'Acurácia de Validação'], loc='upper left')\n",
    "plt.show()"
   ]
  },
  {
   "cell_type": "code",
   "execution_count": null,
   "metadata": {
    "colab": {
     "base_uri": "https://localhost:8080/",
     "height": 297
    },
    "colab_type": "code",
    "id": "jzpBoSG8gvsc",
    "outputId": "e60f05f1-abf6-459a-a76c-e2ce7d28ea82"
   },
   "outputs": [
    {
     "data": {
      "image/png": "[encoded data removed]",
      "text/plain": [
       "<Figure size 432x288 with 1 Axes>"
      ]
     },
     "metadata": {
      "needs_background": "light",
      "tags": []
     },
     "output_type": "display_data"
    }
   ],
   "source": [
    "# Plot da Erros de Treinamento e Validação\n",
    "plt.plot(history_dict4['loss'])\n",
    "plt.plot(history_dict4['val_loss'])\n",
    "plt.title('Erros de Treinamento e Validação')\n",
    "plt.ylabel('Erros')\n",
    "plt.xlabel('Épocas')\n",
    "plt.legend(['Erros de Treinamento', 'Erros de Validação'], loc='upper left')\n",
    "plt.show()"
   ]
  },
  {
   "cell_type": "code",
   "execution_count": null,
   "metadata": {
    "colab": {
     "base_uri": "https://localhost:8080/",
     "height": 51
    },
    "colab_type": "code",
    "id": "EH_F4jMRg30M",
    "outputId": "3a9b51e7-793f-4513-f43f-79b34d713287"
   },
   "outputs": [
    {
     "name": "stdout",
     "output_type": "stream",
     "text": [
      "10000/10000 [==============================] - 1s 54us/step\n"
     ]
    },
    {
     "data": {
      "text/plain": [
       "[0.29119439663190533, 0.982200026512146]"
      ]
     },
     "execution_count": 56,
     "metadata": {
      "tags": []
     },
     "output_type": "execute_result"
    }
   ],
   "source": [
    "# Teste\n",
    "model4.evaluate(test_images, y_test2)"
   ]
  },
  {
   "cell_type": "markdown",
   "metadata": {
    "colab_type": "text",
    "id": "ZRrSMlcQvc9g"
   },
   "source": [
    "### Questão 2 - Random Forest"
   ]
  },
  {
   "cell_type": "markdown",
   "metadata": {
    "colab_type": "text",
    "id": "kQB6UQuKbOmB"
   },
   "source": [
    "Para o treinamento, implementou-se um *Grid Search* para que fossem treinados vários modelos com diferentes parâmentros, e retornasse o melhor estimador. No espaço de parâmetros optou-se por variar apenas os parâmetros *n_estimators*, *min_sample_leaf* e *min_sample_split* (devido à um alto tempo de processamento), definindo o *oob_score* como true, para que se possa checar o resultado do melhor modelo com as instâncias *Out Of Bag*, e utilizando *cross-validation* com 3 *folds* como estratégia de validação.\n",
    "\n",
    "Ao final do treinamento, observa-se que o *Grid Search* indicou um melhor estimador com os seguintes parâmetros:\n",
    "\n",
    "*   n_estimators: 500\n",
    "*   min_sample_leaf: 1\n",
    "*   min_samples_split: 2\n",
    "\n",
    "Logo, para um modelo com 500 árvores e testando com instâncias *out of bag* e dados de teste, ele já alcança uma acurácia de 97%. Portanto, o modelo não alcançou os resultados da rede neural porém, em relação à complexidade do algoritmo, obteve um resultado muito satisfatório, podendo ser usado como *baseline* para comparação."
   ]
  },
  {
   "cell_type": "markdown",
   "metadata": {
    "colab_type": "text",
    "id": "BSMxvx_MSp9H"
   },
   "source": [
    "#### Treinamento"
   ]
  },
  {
   "cell_type": "code",
   "execution_count": null,
   "metadata": {
    "colab": {
     "base_uri": "https://localhost:8080/",
     "height": 374
    },
    "colab_type": "code",
    "id": "59Lq4Vfws0R1",
    "outputId": "965babbd-5db8-4581-abd2-1fa89f2b42ef"
   },
   "outputs": [
    {
     "data": {
      "text/plain": [
       "GridSearchCV(cv=3, error_score=nan,\n",
       "             estimator=RandomForestClassifier(bootstrap=True, ccp_alpha=0.0,\n",
       "                                              class_weight=None,\n",
       "                                              criterion='gini', max_depth=None,\n",
       "                                              max_features='auto',\n",
       "                                              max_leaf_nodes=None,\n",
       "                                              max_samples=None,\n",
       "                                              min_impurity_decrease=0.0,\n",
       "                                              min_impurity_split=None,\n",
       "                                              min_samples_leaf=1,\n",
       "                                              min_samples_split=2,\n",
       "                                              min_weight_fraction_leaf=0.0,\n",
       "                                              n_estimators=100, n_jobs=-1,\n",
       "                                              oob_score=True, random_state=None,\n",
       "                                              verbose=0, warm_start=False),\n",
       "             iid='deprecated', n_jobs=None,\n",
       "             param_grid={'min_samples_leaf': [1, 2],\n",
       "                         'min_samples_split': [2, 4],\n",
       "                         'n_estimators': [100, 500, 1000]},\n",
       "             pre_dispatch='2*n_jobs', refit=True, return_train_score=False,\n",
       "             scoring=None, verbose=False)"
      ]
     },
     "execution_count": 57,
     "metadata": {
      "tags": []
     },
     "output_type": "execute_result"
    }
   ],
   "source": [
    "params = {\n",
    "    \"n_estimators\" : [100, 500, 1000],\n",
    "    \"min_samples_leaf\": [1, 2],\n",
    "    \"min_samples_split\": [2, 4],\n",
    "}\n",
    "\n",
    "model_RF = RandomForestClassifier(n_jobs=-1, oob_score=True)\n",
    "model_RF_gs = GridSearchCV(model_RF, param_grid=params, verbose=False, cv = 3)\n",
    "model_RF_gs.fit(X_train, y_train)"
   ]
  },
  {
   "cell_type": "code",
   "execution_count": null,
   "metadata": {
    "colab": {
     "base_uri": "https://localhost:8080/",
     "height": 34
    },
    "colab_type": "code",
    "id": "Vym_npGyt7Au",
    "outputId": "b0a9ba92-b273-49d0-c77d-fd60de234d8d"
   },
   "outputs": [
    {
     "data": {
      "text/plain": [
       "{'min_samples_leaf': 1, 'min_samples_split': 2, 'n_estimators': 500}"
      ]
     },
     "execution_count": 58,
     "metadata": {
      "tags": []
     },
     "output_type": "execute_result"
    }
   ],
   "source": [
    "model_RF_gs.best_params_"
   ]
  },
  {
   "cell_type": "code",
   "execution_count": null,
   "metadata": {
    "colab": {
     "base_uri": "https://localhost:8080/",
     "height": 153
    },
    "colab_type": "code",
    "id": "ucHVOhJA_Ze_",
    "outputId": "6b31d023-e0d6-42db-b1a3-22bb6c47dd65"
   },
   "outputs": [
    {
     "data": {
      "text/plain": [
       "<bound method ClassifierMixin.score of RandomForestClassifier(bootstrap=True, ccp_alpha=0.0, class_weight=None,\n",
       "                       criterion='gini', max_depth=None, max_features='auto',\n",
       "                       max_leaf_nodes=None, max_samples=None,\n",
       "                       min_impurity_decrease=0.0, min_impurity_split=None,\n",
       "                       min_samples_leaf=1, min_samples_split=2,\n",
       "                       min_weight_fraction_leaf=0.0, n_estimators=500,\n",
       "                       n_jobs=-1, oob_score=True, random_state=None, verbose=0,\n",
       "                       warm_start=False)>"
      ]
     },
     "execution_count": 62,
     "metadata": {
      "tags": []
     },
     "output_type": "execute_result"
    }
   ],
   "source": [
    "model_RF_gs.best_estimator_.score"
   ]
  },
  {
   "cell_type": "code",
   "execution_count": null,
   "metadata": {
    "colab": {
     "base_uri": "https://localhost:8080/",
     "height": 34
    },
    "colab_type": "code",
    "id": "puhRimDot78X",
    "outputId": "67b18522-31b1-4147-bed4-fec0f6092a21"
   },
   "outputs": [
    {
     "data": {
      "text/plain": [
       "0.9703833333333334"
      ]
     },
     "execution_count": 60,
     "metadata": {
      "tags": []
     },
     "output_type": "execute_result"
    }
   ],
   "source": [
    "model_RF_gs.best_estimator_.oob_score_"
   ]
  },
  {
   "cell_type": "markdown",
   "metadata": {
    "colab_type": "text",
    "id": "8R6r0NwbwUcD"
   },
   "source": [
    "#### Teste"
   ]
  },
  {
   "cell_type": "code",
   "execution_count": null,
   "metadata": {
    "colab": {},
    "colab_type": "code",
    "id": "DcBh6fk2wWR9"
   },
   "outputs": [],
   "source": [
    "y_test_pred = model_RF_gs.best_estimator_.predict(X_test)"
   ]
  },
  {
   "cell_type": "code",
   "execution_count": null,
   "metadata": {
    "colab": {
     "base_uri": "https://localhost:8080/",
     "height": 187
    },
    "colab_type": "code",
    "id": "qZICNFqRwZgg",
    "outputId": "3ef0ecb9-f26c-465b-fc19-2aa2dcb0fa81"
   },
   "outputs": [
    {
     "data": {
      "text/plain": [
       "array([[ 970,    0,    0,    0,    0,    3,    2,    1,    3,    1],\n",
       "       [   0, 1124,    2,    3,    0,    2,    2,    0,    1,    1],\n",
       "       [   6,    0,  997,    7,    3,    0,    4,    9,    6,    0],\n",
       "       [   0,    0,    6,  981,    0,    3,    0,    9,    8,    3],\n",
       "       [   1,    0,    1,    0,  957,    0,    6,    0,    2,   15],\n",
       "       [   3,    0,    1,   12,    3,  860,    5,    2,    5,    1],\n",
       "       [   6,    3,    1,    0,    3,    3,  939,    0,    3,    0],\n",
       "       [   1,    2,   18,    1,    1,    0,    0,  992,    2,   11],\n",
       "       [   3,    0,    6,    8,    3,    5,    3,    4,  931,   11],\n",
       "       [   5,    5,    2,    9,   10,    4,    1,    4,    4,  965]])"
      ]
     },
     "execution_count": 64,
     "metadata": {
      "tags": []
     },
     "output_type": "execute_result"
    }
   ],
   "source": [
    "confusion_matrix(y_test, y_test_pred)"
   ]
  },
  {
   "cell_type": "code",
   "execution_count": null,
   "metadata": {
    "colab": {
     "base_uri": "https://localhost:8080/",
     "height": 306
    },
    "colab_type": "code",
    "id": "wsr3KZkHwfEe",
    "outputId": "f8e20251-7e86-4e41-8b1b-693585e6a851"
   },
   "outputs": [
    {
     "name": "stdout",
     "output_type": "stream",
     "text": [
      "              precision    recall  f1-score   support\n",
      "\n",
      "           0       0.97      0.99      0.98       980\n",
      "           1       0.99      0.99      0.99      1135\n",
      "           2       0.96      0.97      0.97      1032\n",
      "           3       0.96      0.97      0.97      1010\n",
      "           4       0.98      0.97      0.98       982\n",
      "           5       0.98      0.96      0.97       892\n",
      "           6       0.98      0.98      0.98       958\n",
      "           7       0.97      0.96      0.97      1028\n",
      "           8       0.96      0.96      0.96       974\n",
      "           9       0.96      0.96      0.96      1009\n",
      "\n",
      "    accuracy                           0.97     10000\n",
      "   macro avg       0.97      0.97      0.97     10000\n",
      "weighted avg       0.97      0.97      0.97     10000\n",
      "\n"
     ]
    }
   ],
   "source": [
    "print(classification_report(y_test, y_test_pred))"
   ]
  }
 ],
 "metadata": {
  "accelerator": "GPU",
  "colab": {
   "collapsed_sections": [],
   "name": "Copy of Análise Preditiva Avançada - MNIST.ipynb",
   "provenance": [],
   "toc_visible": true
  },
  "kernelspec": {
   "display_name": "Python 3",
   "language": "python",
   "name": "python3"
  },
  "language_info": {
   "codemirror_mode": {
    "name": "ipython",
    "version": 3
   },
   "file_extension": ".py",
   "mimetype": "text/x-python",
   "name": "python",
   "nbconvert_exporter": "python",
   "pygments_lexer": "ipython3",
   "version": "3.7.1"
  }
 },
 "nbformat": 4,
 "nbformat_minor": 2
}
